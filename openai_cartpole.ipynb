{
  "nbformat": 4,
  "nbformat_minor": 0,
  "metadata": {
    "colab": {
      "name": "openai-cartpole.ipynb",
      "version": "0.3.2",
      "provenance": [],
      "collapsed_sections": []
    },
    "kernelspec": {
      "name": "python3",
      "display_name": "Python 3"
    },
    "accelerator": "GPU"
  },
  "cells": [
    {
      "metadata": {
        "id": "3tYdjLGubOkQ",
        "colab_type": "text"
      },
      "cell_type": "markdown",
      "source": [
        "This notebook will be my attempt at experimenting with the Google Colaboratory environment."
      ]
    },
    {
      "metadata": {
        "id": "sa0Z6xxxQ5eS",
        "colab_type": "code",
        "outputId": "4358159b-ab51-423c-89b7-9b9f712779f6",
        "colab": {
          "base_uri": "https://localhost:8080/",
          "height": 225
        }
      },
      "cell_type": "code",
      "source": [
        "!pip show tensorflow\n",
        "\n",
        "# Install relevant packages\n",
        "!pip install -q gym\n",
        "!pip -q install pyglet\n",
        "\n",
        "import tensorflow as tf\n",
        "import gym\n",
        "import numpy as np\n",
        "import matplotlib.pyplot as plt\n",
        "\n",
        "# Creates a graph.\n",
        "a = tf.constant([1.0, 2.0, 3.0, 4.0, 5.0, 6.0], shape=[2, 3], name='a')\n",
        "b = tf.constant([1.0, 2.0, 3.0, 4.0, 5.0, 6.0], shape=[3, 2], name='b')\n",
        "c = tf.matmul(a, b)\n",
        "# Creates a session with log_device_placement set to True.\n",
        "sess = tf.Session(config=tf.ConfigProto(log_device_placement=True))\n",
        "# Runs the op.\n",
        "print(sess.run(c))"
      ],
      "execution_count": 1,
      "outputs": [
        {
          "output_type": "stream",
          "text": [
            "Name: tensorflow\n",
            "Version: 1.13.1\n",
            "Summary: TensorFlow is an open source machine learning framework for everyone.\n",
            "Home-page: https://www.tensorflow.org/\n",
            "Author: Google Inc.\n",
            "Author-email: opensource@google.com\n",
            "License: Apache 2.0\n",
            "Location: /usr/local/lib/python3.6/dist-packages\n",
            "Requires: numpy, wheel, tensorboard, keras-preprocessing, keras-applications, grpcio, tensorflow-estimator, six, protobuf, astor, termcolor, absl-py, gast\n",
            "Required-by: stable-baselines, magenta, fancyimpute\n",
            "[[22. 28.]\n",
            " [49. 64.]]\n"
          ],
          "name": "stdout"
        }
      ]
    },
    {
      "metadata": {
        "id": "t_V9-8NZbv6h",
        "colab_type": "text"
      },
      "cell_type": "markdown",
      "source": [
        "In this notebook, I will be experimenting with the [Cartpole](https://gym.openai.com/envs/CartPole-v0/) environment in OpenAI's gym. I will also be trying to answer some of the questions from one of OpenAi's request for research, [Cartpole: for newcomers to RL](https://openai.com/requests-for-research/#cartpole). The metrics used for comparing the different attempts at solving this environment is also referenced from this [blog post](http://kvfrans.com/simple-algoritms-for-solving-cartpole/)\n",
        "\n",
        "Below this cell are some information on OpenAI's CartPole environment."
      ]
    },
    {
      "metadata": {
        "id": "ZkCfN-cwSI0R",
        "colab_type": "code",
        "outputId": "08a51624-ce02-4e3a-cb49-db76dfcb4231",
        "colab": {
          "base_uri": "https://localhost:8080/",
          "height": 225
        }
      },
      "cell_type": "code",
      "source": [
        "env = gym.make('CartPole-v0')\n",
        "\n",
        "print(\"Some information about this environment:\")\n",
        "print('Observation space:', env.observation_space)\n",
        "print('Maximum of Observation space:', env.observation_space.high)\n",
        "print('Minimum of Observation space:', env.observation_space.low)\n",
        "print('Sample of Observation space:', env.observation_space.sample())\n",
        "print('Action space:', env.action_space)\n",
        "print('Sample of Action space:', env.action_space.sample())\n",
        "\n",
        "obs = env.reset()\n",
        "print('Initial observation:', obs)\n",
        "\n",
        "action = env.action_space.sample()\n",
        "obs, r, done, info = env.step(action)\n",
        "print('Next observation:', obs)\n",
        "print('Reward:', r)\n",
        "print('Done:', done)\n",
        "print('Info:', info)"
      ],
      "execution_count": 2,
      "outputs": [
        {
          "output_type": "stream",
          "text": [
            "Some information about this environment:\n",
            "Observation space: Box(4,)\n",
            "Maximum of Observation space: [4.8000002e+00 3.4028235e+38 4.1887903e-01 3.4028235e+38]\n",
            "Minimum of Observation space: [-4.8000002e+00 -3.4028235e+38 -4.1887903e-01 -3.4028235e+38]\n",
            "Sample of Observation space: [4.6860966e-01 1.4645028e+38 8.6090848e-02 3.0545910e+37]\n",
            "Action space: Discrete(2)\n",
            "Sample of Action space: 1\n",
            "Initial observation: [ 0.03857269 -0.01707286 -0.04233381  0.02914776]\n",
            "Next observation: [ 0.03823123  0.17862981 -0.04175085 -0.27658567]\n",
            "Reward: 1.0\n",
            "Done: False\n",
            "Info: {}\n"
          ],
          "name": "stdout"
        }
      ]
    },
    {
      "metadata": {
        "id": "rBTIu3JCUKS3",
        "colab_type": "code",
        "colab": {}
      },
      "cell_type": "code",
      "source": [
        "# Define a function to run an episode of Cartpole's environment\n",
        "def run_episode(env, model_params):\n",
        "  # Start new episode\n",
        "  obs = env.reset()\n",
        "  done = False\n",
        "  total_r = 0\n",
        "  total_step = 0\n",
        "  \n",
        "  state_list = []\n",
        "  action_list = []\n",
        "  r_list = []\n",
        "  \n",
        "  # Step through episode\n",
        "  while not done:\n",
        "    pred = model_params * obs\n",
        "    if np.sum(pred) >= 0:\n",
        "      action = 1\n",
        "    else:\n",
        "      action = 0\n",
        "      \n",
        "    state_list.append(obs)\n",
        "    action_list.append(action)\n",
        "    obs, r, done, info = env.step(action)\n",
        "    r_list.append(r)\n",
        "    total_step += 1\n",
        "    total_r += r\n",
        "  \n",
        "  return total_r, total_step, state_list, action_list, r_list"
      ],
      "execution_count": 0,
      "outputs": []
    },
    {
      "metadata": {
        "id": "OY3fMji_Lv76",
        "colab_type": "text"
      },
      "cell_type": "markdown",
      "source": [
        "As mentioned in the request, the first algorithm that I experimented with was a random guessing algorithm. I basically randomly generate model parameters from the uniform distribution until the Cartpole environment is solved (the Cartpole is kept up for 200 timesteps). I then repeat this for 1000 times to see how many guesses on average the random guessing algorithm needs to solve the Cartpole environment.\n",
        "\n",
        "The policy used here will be a simple linear model:\n",
        "\n",
        "$a = \\begin{cases}\n",
        "  \\hfill 0 \\hfill & \\text{ if $\\theta s$ < 0} \\\\\n",
        "  \\hfill 1 \\hfill & \\text{ else}\n",
        "\\end{cases}$\n",
        "\n",
        "where $\\theta$ are the model parameters and $s$ are the observations gotten from the environment.\n",
        "\n",
        "Here are the results from the random guessing algorithm on a simple linear model:"
      ]
    },
    {
      "metadata": {
        "id": "_nZmZv7Af3OH",
        "colab_type": "code",
        "outputId": "b1fcd903-fa65-41b1-f990-d679f50e9c7f",
        "colab": {
          "base_uri": "https://localhost:8080/",
          "height": 295
        }
      },
      "cell_type": "code",
      "source": [
        "tries_list = []\n",
        "\n",
        "# Try out 10000 random configurations of model parameters\n",
        "for idx in range(1000):\n",
        "  num_tries = 0\n",
        "  best_r = 0\n",
        "  \n",
        "  while best_r < 200:\n",
        "    # Generate model parameters\n",
        "    cur_model_params = np.random.uniform(size=(4,1))\n",
        "  \n",
        "    # Run episode\n",
        "    best_r, _, _, _, _ = run_episode(env, cur_model_params)\n",
        "    \n",
        "    # Record down number of guesses needed\n",
        "    num_tries += 1\n",
        "    \n",
        "  tries_list.append(num_tries)\n",
        "\n",
        "# Plot out the results of the runs\n",
        "n, bins, patches = plt.hist(tries_list, bins=max(tries_list), align='left')\n",
        "plt.xlabel('Number of guesses before solving environment')\n",
        "plt.ylabel('Frequency')\n",
        "plt.title('Results of Random Guess Algorithm')\n",
        "plt.grid(True)\n",
        "plt.show()"
      ],
      "execution_count": 4,
      "outputs": [
        {
          "output_type": "display_data",
          "data": {
            "image/png": "[encoded data removed]",
            "text/plain": [
              "<Figure size 432x288 with 1 Axes>"
            ]
          },
          "metadata": {
            "tags": []
          }
        }
      ]
    },
    {
      "metadata": {
        "id": "wgpTHwvkZlmz",
        "colab_type": "text"
      },
      "cell_type": "markdown",
      "source": [
        "The second algorithm that I experimented with was a hill climbing algorithm. I basically randomly sample initial model parameters from the uniform distribution and then slow perturb the parameters with some random small values until the model parameters are able to return cummulative reward of 200 or exceed 500 iterations in the Cartpole environment. This is repeated for 1000 times to see how many iterations the hill climbing algorithms needs to solve the Cartpole environment."
      ]
    },
    {
      "metadata": {
        "id": "qCUCkWtrLL0S",
        "colab_type": "code",
        "outputId": "c62d8809-44e1-49b6-a227-85fa34242e40",
        "colab": {
          "base_uri": "https://localhost:8080/",
          "height": 295
        }
      },
      "cell_type": "code",
      "source": [
        "epsilon = 1e-6\n",
        "tries_list = []\n",
        "\n",
        "# Try out 1000 hill climbing algorithm iterations\n",
        "for idx in range(1000):\n",
        "  cur_model_params = np.random.uniform(size=(4,1))\n",
        "  cur_total_reward = 0\n",
        "  num_iterations = 0\n",
        "  \n",
        "  # Runs hill-climbing algorithm until reached best reward possible\n",
        "  while cur_total_reward < 200 and num_iterations < 500:\n",
        "    perturbation = np.random.uniform(size=(4,1)) * epsilon\n",
        "    new_model_params = cur_model_params + perturbation\n",
        "    num_iterations += 1\n",
        "\n",
        "    # Run episode\n",
        "    total_r, total_step, _, _, _ = run_episode(env, cur_model_params)\n",
        "\n",
        "    # Record the parameters of the model with highest cummulative rewards\n",
        "    if total_r > cur_total_reward:\n",
        "      cur_model_params = new_model_params\n",
        "      cur_total_reward = total_r\n",
        "      \n",
        "  tries_list.append(num_iterations)\n",
        "    \n",
        "# Plot out the results of the runs\n",
        "n, bins, patches = plt.hist(tries_list, bins=max(tries_list), align='left')\n",
        "plt.xlabel('Number of perturbations before solving environment')\n",
        "plt.ylabel('Frequency')\n",
        "plt.title('Results of Hill Climbing Algorithm')\n",
        "plt.grid(True)\n",
        "plt.show()"
      ],
      "execution_count": 5,
      "outputs": [
        {
          "output_type": "display_data",
          "data": {
            "image/png": "[encoded data removed]",
            "text/plain": [
              "<Figure size 432x288 with 1 Axes>"
            ]
          },
          "metadata": {
            "tags": []
          }
        }
      ]
    },
    {
      "metadata": {
        "id": "2r_Ofu6a06P5",
        "colab_type": "text"
      },
      "cell_type": "markdown",
      "source": [
        "The last algorithm that I experimented with is the policy gradient algorithm.\n",
        "\n",
        "Generally, policy gradient methods aim to iteratively improve the performance of a policy that is differentiable with respect to its parameters, that is, $\\nabla_\\theta \\pi(a | s, \\theta)$ exists. In this implementation of policy gradient, the policy is parameterized simply as:\n",
        "\n",
        "$\\pi(a_i | s, \\theta) = \\frac{exp(\\theta_i^\\top s)}{\\sum_{i=0}^{n}{exp(\\theta_i^\\top s)}}$\n",
        "\n",
        "In the code below, the episodic variant of the Monte Carlo Policy-Gradient Method is used. Details of the exact implementation can be found in the textbook, Reinforcement Learning: An Introduction 2nd Ed. by Sutton and Barto. Essentially, we first use the existing model parameters to generate a series of observations, actions and rewards. At the end of the episode, we collect those values and update the model parameters $T$ times, where $T$ is the total number of timesteps generated from the episode. The update rule used is:\n",
        "\n",
        "$\\theta \\leftarrow \\theta + \\alpha \\gamma^t G \\nabla_\\theta ln \\pi(a_t | s_t, \\theta)$ where $G$ is the return from step $t$"
      ]
    },
    {
      "metadata": {
        "id": "rMLE4PWyVFa1",
        "colab_type": "code",
        "outputId": "f416ba29-688e-474b-f048-2deef17cbb1d",
        "colab": {
          "base_uri": "https://localhost:8080/",
          "height": 367
        }
      },
      "cell_type": "code",
      "source": [
        "def run_episode_tensorflow(sess, env, action_prob):\n",
        "  # Start new episode\n",
        "  obs = env.reset()\n",
        "  done = False\n",
        "  \n",
        "  state_list = []\n",
        "  action_list = []\n",
        "  r_list = []\n",
        "  \n",
        "  # Step through episode\n",
        "  while not done:\n",
        "    cur_action_prob = sess.run(action_prob, feed_dict={observation_placeholder: obs.reshape(1, 4)})\n",
        "    action = np.random.binomial(1, cur_action_prob[0][1], 1)[0]\n",
        "      \n",
        "    state_list.append(obs)\n",
        "    action_list.append(action)\n",
        "    obs, r, done, info = env.step(action)\n",
        "    r_list.append(r)\n",
        "  \n",
        "  return state_list, action_list, r_list\n",
        "\n",
        "# Use softmax to give each action a probability\n",
        "epsilon = tf.constant(0.05, dtype=tf.float32)\n",
        "observation_placeholder = tf.placeholder(dtype=tf.float32, shape=(None, 4))\n",
        "action_placeholder = tf.placeholder(dtype=tf.int32, shape=())\n",
        "v = tf.placeholder(dtype=tf.float32, shape=())\n",
        "model_params = tf.Variable(tf.random_uniform(shape=(4, 2), minval=0, maxval=1.0, dtype=tf.float32))\n",
        "preds = tf.matmul(observation_placeholder, model_params)\n",
        "action_prob = tf.nn.softmax(preds)\n",
        "action_grad = tf.gradients(tf.log(action_prob[:, action_placeholder]), model_params)\n",
        "update_step = model_params.assign(model_params + epsilon * tf.squeeze(action_grad) * v)\n",
        "\n",
        "# Use Monte Carlo Policy Gradient\n",
        "tries_list = []\n",
        "\n",
        "for episode in range(100):\n",
        "  num_tries = 0\n",
        "  cur_r = 0\n",
        "  \n",
        "  with tf.Session() as sess:\n",
        "    sess.run(tf.global_variables_initializer())\n",
        "    \n",
        "    while cur_r < 200:\n",
        "      state_list, action_list, r_list = run_episode_tensorflow(sess, env, action_prob)\n",
        "      cur_r = sum(r_list)\n",
        "      num_tries += 1\n",
        "    \n",
        "      # Policy gradient update step\n",
        "      for idx, (state, action) in enumerate(zip(state_list, action_list)):\n",
        "        _ = sess.run(update_step, feed_dict={observation_placeholder: state.reshape(1, 4), action_placeholder: action, v:sum(r_list[idx:])})\n",
        "        \n",
        "    tries_list.append(num_tries)\n",
        "\n",
        "# Plot out the results of the runs\n",
        "n, bins, patches = plt.hist(tries_list, bins=max(tries_list), align='left')\n",
        "plt.xlabel('Number of episodes before solving environment')\n",
        "plt.ylabel('Frequency')\n",
        "plt.title('Results of Monte Carlo Policy Gradient')\n",
        "plt.grid(True)\n",
        "plt.show()    "
      ],
      "execution_count": 6,
      "outputs": [
        {
          "output_type": "stream",
          "text": [
            "WARNING:tensorflow:From /usr/local/lib/python3.6/dist-packages/tensorflow/python/framework/op_def_library.py:263: colocate_with (from tensorflow.python.framework.ops) is deprecated and will be removed in a future version.\n",
            "Instructions for updating:\n",
            "Colocations handled automatically by placer.\n"
          ],
          "name": "stdout"
        },
        {
          "output_type": "display_data",
          "data": {
            "image/png": "[encoded data removed]",
            "text/plain": [
              "<Figure size 432x288 with 1 Axes>"
            ]
          },
          "metadata": {
            "tags": []
          }
        }
      ]
    },
    {
      "metadata": {
        "id": "iIW5tBw9YDnS",
        "colab_type": "text"
      },
      "cell_type": "markdown",
      "source": [
        "Comparing the 3 methods for the Cartpole environment, I would say that the Random Guess algorithm performs pretty similarly to the Hill Climbing algorithm. However, the Polciy Gradient algorithm is performing much worse as compared to the other two algorithms.\n",
        "\n",
        "It is likely because of the small observation space and action space (resulting in a low dimensional linear model) that the Random Guess algorithm works at all. If this algorithm was used to find solutions in an extremely high dimensional space, it would probably be no where near as successful. Since the hill climbing is based on random perturbations, I would think that each iterative update the algorithm does is heavily dependent on the initial guess and depending on the learning rate of the algorithm, each update could be as good as a new random guess for the model parameters.\n",
        "\n",
        "As for the policy gradient, while each update iteration is more directed than the hill climbing algorithm, it does not seem to perform as well for the Cartpole environment. I believe that we will be able to see the benefits of the policy gradient algorithm once we employ it on environments with observations and actions of much higher dimensions. The fact that each iteration ensures that the model parameters are converging towards some sort of objective ($\\nabla_\\theta J \\propto E_\\pi[\\sum_{a}^{}q_\\pi(S_t, a) \\nabla_\\theta\\pi(a | S_t, \\theta)]$) implies that this algorithm would probably fare better than the other two in higher dimensional environments."
      ]
    }
  ]
}